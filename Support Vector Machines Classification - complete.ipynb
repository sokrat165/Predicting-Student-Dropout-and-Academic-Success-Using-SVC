{
 "cells": [
  {
   "cell_type": "markdown",
   "id": "1420c9b2",
   "metadata": {},
   "source": [
    "# Categorical Support Vector Classifier"
   ]
  },
  {
   "cell_type": "markdown",
   "id": "072cff84",
   "metadata": {},
   "source": [
    "## Imports"
   ]
  },
  {
   "cell_type": "code",
   "execution_count": 18,
   "id": "a2f5130f",
   "metadata": {},
   "outputs": [],
   "source": [
    "import pandas as pd \n",
    "from sklearn.preprocessing import MinMaxScaler \n",
    "from sklearn.model_selection import train_test_split \n",
    "from sklearn.preprocessing import LabelEncoder, OrdinalEncoder \n",
    "from sklearn import svm, datasets\n",
    "import matplotlib.pyplot as plt\n",
    "from sklearn.metrics import confusion_matrix, accuracy_score, precision_score, recall_score, \\\n",
    "f1_score, classification_report,ConfusionMatrixDisplay\n",
    "from sklearn.model_selection import GridSearchCV \n",
    "from sklearn.metrics import classification_report "
   ]
  },
  {
   "cell_type": "markdown",
   "id": "8e6d2192",
   "metadata": {},
   "source": [
    "## Loading the database"
   ]
  },
  {
   "cell_type": "markdown",
   "id": "7fd5a60a",
   "metadata": {},
   "source": [
    "#### Read the csv file and study the database"
   ]
  },
  {
   "cell_type": "code",
   "execution_count": 2,
   "id": "34326675",
   "metadata": {},
   "outputs": [
    {
     "data": {
      "text/html": [
       "<div>\n",
       "<style scoped>\n",
       "    .dataframe tbody tr th:only-of-type {\n",
       "        vertical-align: middle;\n",
       "    }\n",
       "\n",
       "    .dataframe tbody tr th {\n",
       "        vertical-align: top;\n",
       "    }\n",
       "\n",
       "    .dataframe thead th {\n",
       "        text-align: right;\n",
       "    }\n",
       "</style>\n",
       "<table border=\"1\" class=\"dataframe\">\n",
       "  <thead>\n",
       "    <tr style=\"text-align: right;\">\n",
       "      <th></th>\n",
       "      <th>poisonous</th>\n",
       "      <th>cap-shape</th>\n",
       "      <th>cap-surface</th>\n",
       "      <th>cap-color</th>\n",
       "      <th>bruises</th>\n",
       "      <th>odor</th>\n",
       "      <th>gill-attachment</th>\n",
       "      <th>gill-spacing</th>\n",
       "      <th>gill-size</th>\n",
       "      <th>gill-color</th>\n",
       "      <th>...</th>\n",
       "      <th>stalk-surface-below-ring</th>\n",
       "      <th>stalk-color-above-ring</th>\n",
       "      <th>stalk-color-below-ring</th>\n",
       "      <th>veil-type</th>\n",
       "      <th>veil-color</th>\n",
       "      <th>ring-number</th>\n",
       "      <th>ring-type</th>\n",
       "      <th>spore-print-color</th>\n",
       "      <th>population</th>\n",
       "      <th>habitat</th>\n",
       "    </tr>\n",
       "  </thead>\n",
       "  <tbody>\n",
       "    <tr>\n",
       "      <th>0</th>\n",
       "      <td>p</td>\n",
       "      <td>x</td>\n",
       "      <td>s</td>\n",
       "      <td>n</td>\n",
       "      <td>t</td>\n",
       "      <td>p</td>\n",
       "      <td>f</td>\n",
       "      <td>c</td>\n",
       "      <td>n</td>\n",
       "      <td>k</td>\n",
       "      <td>...</td>\n",
       "      <td>s</td>\n",
       "      <td>w</td>\n",
       "      <td>w</td>\n",
       "      <td>p</td>\n",
       "      <td>w</td>\n",
       "      <td>o</td>\n",
       "      <td>p</td>\n",
       "      <td>k</td>\n",
       "      <td>s</td>\n",
       "      <td>u</td>\n",
       "    </tr>\n",
       "    <tr>\n",
       "      <th>1</th>\n",
       "      <td>e</td>\n",
       "      <td>x</td>\n",
       "      <td>s</td>\n",
       "      <td>y</td>\n",
       "      <td>t</td>\n",
       "      <td>a</td>\n",
       "      <td>f</td>\n",
       "      <td>c</td>\n",
       "      <td>b</td>\n",
       "      <td>k</td>\n",
       "      <td>...</td>\n",
       "      <td>s</td>\n",
       "      <td>w</td>\n",
       "      <td>w</td>\n",
       "      <td>p</td>\n",
       "      <td>w</td>\n",
       "      <td>o</td>\n",
       "      <td>p</td>\n",
       "      <td>n</td>\n",
       "      <td>n</td>\n",
       "      <td>g</td>\n",
       "    </tr>\n",
       "    <tr>\n",
       "      <th>2</th>\n",
       "      <td>e</td>\n",
       "      <td>b</td>\n",
       "      <td>s</td>\n",
       "      <td>w</td>\n",
       "      <td>t</td>\n",
       "      <td>l</td>\n",
       "      <td>f</td>\n",
       "      <td>c</td>\n",
       "      <td>b</td>\n",
       "      <td>n</td>\n",
       "      <td>...</td>\n",
       "      <td>s</td>\n",
       "      <td>w</td>\n",
       "      <td>w</td>\n",
       "      <td>p</td>\n",
       "      <td>w</td>\n",
       "      <td>o</td>\n",
       "      <td>p</td>\n",
       "      <td>n</td>\n",
       "      <td>n</td>\n",
       "      <td>m</td>\n",
       "    </tr>\n",
       "    <tr>\n",
       "      <th>3</th>\n",
       "      <td>p</td>\n",
       "      <td>x</td>\n",
       "      <td>y</td>\n",
       "      <td>w</td>\n",
       "      <td>t</td>\n",
       "      <td>p</td>\n",
       "      <td>f</td>\n",
       "      <td>c</td>\n",
       "      <td>n</td>\n",
       "      <td>n</td>\n",
       "      <td>...</td>\n",
       "      <td>s</td>\n",
       "      <td>w</td>\n",
       "      <td>w</td>\n",
       "      <td>p</td>\n",
       "      <td>w</td>\n",
       "      <td>o</td>\n",
       "      <td>p</td>\n",
       "      <td>k</td>\n",
       "      <td>s</td>\n",
       "      <td>u</td>\n",
       "    </tr>\n",
       "    <tr>\n",
       "      <th>4</th>\n",
       "      <td>e</td>\n",
       "      <td>x</td>\n",
       "      <td>s</td>\n",
       "      <td>g</td>\n",
       "      <td>f</td>\n",
       "      <td>n</td>\n",
       "      <td>f</td>\n",
       "      <td>w</td>\n",
       "      <td>b</td>\n",
       "      <td>k</td>\n",
       "      <td>...</td>\n",
       "      <td>s</td>\n",
       "      <td>w</td>\n",
       "      <td>w</td>\n",
       "      <td>p</td>\n",
       "      <td>w</td>\n",
       "      <td>o</td>\n",
       "      <td>e</td>\n",
       "      <td>n</td>\n",
       "      <td>a</td>\n",
       "      <td>g</td>\n",
       "    </tr>\n",
       "  </tbody>\n",
       "</table>\n",
       "<p>5 rows × 22 columns</p>\n",
       "</div>"
      ],
      "text/plain": [
       "  poisonous cap-shape cap-surface cap-color bruises odor gill-attachment  \\\n",
       "0         p         x           s         n       t    p               f   \n",
       "1         e         x           s         y       t    a               f   \n",
       "2         e         b           s         w       t    l               f   \n",
       "3         p         x           y         w       t    p               f   \n",
       "4         e         x           s         g       f    n               f   \n",
       "\n",
       "  gill-spacing gill-size gill-color  ... stalk-surface-below-ring  \\\n",
       "0            c         n          k  ...                        s   \n",
       "1            c         b          k  ...                        s   \n",
       "2            c         b          n  ...                        s   \n",
       "3            c         n          n  ...                        s   \n",
       "4            w         b          k  ...                        s   \n",
       "\n",
       "  stalk-color-above-ring stalk-color-below-ring veil-type veil-color  \\\n",
       "0                      w                      w         p          w   \n",
       "1                      w                      w         p          w   \n",
       "2                      w                      w         p          w   \n",
       "3                      w                      w         p          w   \n",
       "4                      w                      w         p          w   \n",
       "\n",
       "  ring-number ring-type spore-print-color population habitat  \n",
       "0           o         p                 k          s       u  \n",
       "1           o         p                 n          n       g  \n",
       "2           o         p                 n          n       m  \n",
       "3           o         p                 k          s       u  \n",
       "4           o         e                 n          a       g  \n",
       "\n",
       "[5 rows x 22 columns]"
      ]
     },
     "execution_count": 2,
     "metadata": {},
     "output_type": "execute_result"
    }
   ],
   "source": [
    "mushroom_data = pd.read_csv(\"mushrooms-full-dataset.csv\", dtype = str)\n",
    "mushroom_data.head()"
   ]
  },
  {
   "cell_type": "code",
   "execution_count": 3,
   "id": "588d9525",
   "metadata": {},
   "outputs": [
    {
     "data": {
      "text/plain": [
       "e    4208\n",
       "p    3916\n",
       "Name: poisonous, dtype: int64"
      ]
     },
     "execution_count": 3,
     "metadata": {},
     "output_type": "execute_result"
    }
   ],
   "source": [
    "mushroom_data['poisonous'].value_counts()"
   ]
  },
  {
   "cell_type": "code",
   "execution_count": 4,
   "id": "ad6fcc72",
   "metadata": {},
   "outputs": [
    {
     "data": {
      "text/plain": [
       "poisonous                   0\n",
       "cap-shape                   0\n",
       "cap-surface                 0\n",
       "cap-color                   0\n",
       "bruises                     0\n",
       "odor                        0\n",
       "gill-attachment             0\n",
       "gill-spacing                0\n",
       "gill-size                   0\n",
       "gill-color                  0\n",
       "stalk-shape                 0\n",
       "stalk-surface-above-ring    0\n",
       "stalk-surface-below-ring    0\n",
       "stalk-color-above-ring      0\n",
       "stalk-color-below-ring      0\n",
       "veil-type                   0\n",
       "veil-color                  0\n",
       "ring-number                 0\n",
       "ring-type                   0\n",
       "spore-print-color           0\n",
       "population                  0\n",
       "habitat                     0\n",
       "dtype: int64"
      ]
     },
     "execution_count": 4,
     "metadata": {},
     "output_type": "execute_result"
    }
   ],
   "source": [
    "mushroom_data.isnull().sum()"
   ]
  },
  {
   "cell_type": "markdown",
   "id": "2915245f",
   "metadata": {},
   "source": [
    "## Preprocessing"
   ]
  },
  {
   "cell_type": "markdown",
   "id": "c5cece36",
   "metadata": {},
   "source": [
    "#### Define the target and the inputs"
   ]
  },
  {
   "cell_type": "code",
   "execution_count": 5,
   "id": "6e81b0be",
   "metadata": {},
   "outputs": [],
   "source": [
    "target = mushroom_data['poisonous']\n",
    "inputs = mushroom_data.drop(['poisonous'],axis=1)"
   ]
  },
  {
   "cell_type": "markdown",
   "id": "bcc60154",
   "metadata": {},
   "source": [
    "#### Create a training and a testing dataset"
   ]
  },
  {
   "cell_type": "code",
   "execution_count": 6,
   "id": "5512645d",
   "metadata": {},
   "outputs": [],
   "source": [
    "x_train, x_test, y_train, y_test = train_test_split(inputs, target, test_size=0.2, random_state=365, stratify = target)"
   ]
  },
  {
   "cell_type": "markdown",
   "id": "9d72ea7d",
   "metadata": {},
   "source": [
    "#### Check the result from the stratification"
   ]
  },
  {
   "cell_type": "code",
   "execution_count": 7,
   "id": "f3d8440f",
   "metadata": {},
   "outputs": [
    {
     "data": {
      "text/plain": [
       "e    0.517926\n",
       "p    0.482074\n",
       "Name: poisonous, dtype: float64"
      ]
     },
     "execution_count": 7,
     "metadata": {},
     "output_type": "execute_result"
    }
   ],
   "source": [
    "y_train.value_counts(normalize = True)"
   ]
  },
  {
   "cell_type": "code",
   "execution_count": 8,
   "id": "acd0c973",
   "metadata": {
    "scrolled": true
   },
   "outputs": [
    {
     "data": {
      "text/plain": [
       "e    0.518154\n",
       "p    0.481846\n",
       "Name: poisonous, dtype: float64"
      ]
     },
     "execution_count": 8,
     "metadata": {},
     "output_type": "execute_result"
    }
   ],
   "source": [
    "pd.Series(y_test).value_counts(normalize = True)"
   ]
  },
  {
   "cell_type": "markdown",
   "id": "5c05ea90",
   "metadata": {},
   "source": [
    "#### Define a separate encoder for the target and the inputs "
   ]
  },
  {
   "cell_type": "code",
   "execution_count": 9,
   "id": "a43b5c2c",
   "metadata": {},
   "outputs": [],
   "source": [
    "enc_i = OrdinalEncoder()\n",
    "enc_t = LabelEncoder()"
   ]
  },
  {
   "cell_type": "markdown",
   "id": "0a81e377",
   "metadata": {},
   "source": [
    "#### Apply the fit_transform() method on the training data and the transform() method on the test data."
   ]
  },
  {
   "cell_type": "code",
   "execution_count": 10,
   "id": "e12ef761",
   "metadata": {},
   "outputs": [],
   "source": [
    "x_train_transf = enc_i.fit_transform(x_train)\n",
    "x_test_transf = enc_i.transform(x_test)\n",
    "\n",
    "y_train_transf = enc_t.fit_transform(y_train)\n",
    "y_test_transf = enc_t.transform(y_test)"
   ]
  },
  {
   "cell_type": "code",
   "execution_count": 11,
   "id": "3d03798e",
   "metadata": {},
   "outputs": [
    {
     "data": {
      "text/plain": [
       "array([0, 0, 0, ..., 1, 0, 0])"
      ]
     },
     "execution_count": 11,
     "metadata": {},
     "output_type": "execute_result"
    }
   ],
   "source": [
    "y_train_transf"
   ]
  },
  {
   "cell_type": "code",
   "execution_count": 12,
   "id": "96c190cb",
   "metadata": {},
   "outputs": [
    {
     "data": {
      "text/plain": [
       "array([[3., 3., 2., ..., 7., 1., 6.],\n",
       "       [5., 3., 4., ..., 2., 5., 4.],\n",
       "       [2., 0., 4., ..., 2., 4., 0.],\n",
       "       ...,\n",
       "       [2., 3., 2., ..., 7., 4., 0.],\n",
       "       [3., 0., 8., ..., 7., 3., 1.],\n",
       "       [5., 0., 3., ..., 3., 4., 0.]])"
      ]
     },
     "execution_count": 12,
     "metadata": {},
     "output_type": "execute_result"
    }
   ],
   "source": [
    "x_train_transf"
   ]
  },
  {
   "cell_type": "markdown",
   "id": "3414b3b4",
   "metadata": {},
   "source": [
    "## Rescaling"
   ]
  },
  {
   "cell_type": "markdown",
   "id": "ebdd02ce",
   "metadata": {},
   "source": [
    "### In order for the SVC to work correctly the inputs need to be rescaled to the range (-1, 1)"
   ]
  },
  {
   "cell_type": "code",
   "execution_count": 13,
   "id": "0d5ad081",
   "metadata": {},
   "outputs": [],
   "source": [
    "scaling = MinMaxScaler(feature_range=(-1,1)).fit(x_train_transf)\n",
    "x_train_rescaled = scaling.transform(x_train_transf)"
   ]
  },
  {
   "cell_type": "markdown",
   "id": "344b7d21",
   "metadata": {},
   "source": [
    "## Classification"
   ]
  },
  {
   "cell_type": "code",
   "execution_count": 14,
   "id": "6e88e0f0",
   "metadata": {},
   "outputs": [],
   "source": [
    "C = 1.0\n",
    "svc = svm.SVC(kernel='linear', C=C).fit(x_train_rescaled, y_train_transf)"
   ]
  },
  {
   "cell_type": "code",
   "execution_count": 15,
   "id": "93e0d614",
   "metadata": {},
   "outputs": [
    {
     "data": {
      "text/plain": [
       "array(['e', 'p'], dtype=object)"
      ]
     },
     "execution_count": 15,
     "metadata": {},
     "output_type": "execute_result"
    }
   ],
   "source": [
    "enc_t.classes_"
   ]
  },
  {
   "cell_type": "markdown",
   "id": "9ccf5a93",
   "metadata": {},
   "source": [
    "### Create a new dataframe with the encoded variables"
   ]
  },
  {
   "cell_type": "markdown",
   "id": "31d6e4cd",
   "metadata": {},
   "source": [
    "features_list = data.columns[:-1]\n",
    "features_list"
   ]
  },
  {
   "cell_type": "markdown",
   "id": "273a98a1",
   "metadata": {},
   "source": [
    "data_enc = pd.DataFrame(inputs_enc, columns = features_list)\n",
    "data_enc['poisonous'] = target_enc\n",
    "data_enc"
   ]
  },
  {
   "cell_type": "markdown",
   "id": "94ad6529",
   "metadata": {},
   "source": [
    "## Evaluation"
   ]
  },
  {
   "cell_type": "markdown",
   "id": "963d318a",
   "metadata": {},
   "source": [
    "#### Evaluate the model on the test data"
   ]
  },
  {
   "cell_type": "code",
   "execution_count": 19,
   "id": "3a653897",
   "metadata": {},
   "outputs": [],
   "source": [
    "y_pred_test = svc.predict(scaling.transform(x_test_transf))"
   ]
  },
  {
   "cell_type": "code",
   "execution_count": 20,
   "id": "f2bc76fd",
   "metadata": {},
   "outputs": [
    {
     "data": {
      "image/png": "[encoded data removed]",
      "text/plain": [
       "<Figure size 576x360 with 2 Axes>"
      ]
     },
     "metadata": {
      "needs_background": "light"
     },
     "output_type": "display_data"
    }
   ],
   "source": [
    "fig, ax = plt.subplots(figsize=(8, 5))\n",
    "\n",
    "cmp = ConfusionMatrixDisplay(\n",
    "    confusion_matrix(y_test_transf, y_pred_test),\n",
    "    display_labels=[\"Edible\", \"Poisonous\"],\n",
    ")\n",
    "\n",
    "cmp.plot(ax=ax);"
   ]
  },
  {
   "cell_type": "code",
   "execution_count": 31,
   "id": "3c2a092e",
   "metadata": {},
   "outputs": [
    {
     "name": "stdout",
     "output_type": "stream",
     "text": [
      "              precision    recall  f1-score   support\n",
      "\n",
      "      Edible       0.94      0.97      0.96       842\n",
      "   Poisonous       0.97      0.93      0.95       783\n",
      "\n",
      "    accuracy                           0.95      1625\n",
      "   macro avg       0.95      0.95      0.95      1625\n",
      "weighted avg       0.95      0.95      0.95      1625\n",
      "\n"
     ]
    }
   ],
   "source": [
    "print(classification_report(y_test_transf, y_pred_test, target_names = [\"Edible\", \"Poisonous\"]))"
   ]
  },
  {
   "cell_type": "markdown",
   "id": "49071c60",
   "metadata": {},
   "source": [
    "## Hyperparameter Tuning with GridSearchCV"
   ]
  },
  {
   "cell_type": "markdown",
   "id": "04d25c48",
   "metadata": {},
   "source": [
    "### Choose the best kernel and optimal C parameter based on Cross Validation of the training data"
   ]
  },
  {
   "cell_type": "code",
   "execution_count": 32,
   "id": "bceef111",
   "metadata": {},
   "outputs": [],
   "source": [
    "tuned_parameters = [\n",
    "    {\"kernel\": [\"linear\"], \"C\": [1, 10]},\n",
    "    {\"kernel\": [\"poly\"], \"C\":[1, 10]},\n",
    "    {\"kernel\": [\"rbf\"], \"gamma\": [1e-3, 1e-4], \"C\": [1, 10]}\n",
    "]"
   ]
  },
  {
   "cell_type": "code",
   "execution_count": 33,
   "id": "b919a5b7",
   "metadata": {},
   "outputs": [],
   "source": [
    "scores = [\"precision\", \"recall\"]"
   ]
  },
  {
   "cell_type": "code",
   "execution_count": 35,
   "id": "b51ff2ff",
   "metadata": {},
   "outputs": [
    {
     "name": "stdout",
     "output_type": "stream",
     "text": [
      "# Tuning hyper-parameters for precision\n",
      "\n",
      "Best parameters set found on development set:\n",
      "\n",
      "{'C': 1, 'kernel': 'poly'}\n",
      "\n",
      "Grid scores on development set:\n",
      "\n",
      "0.952 (+/-0.013) for {'C': 1, 'kernel': 'linear'}\n",
      "0.954 (+/-0.009) for {'C': 10, 'kernel': 'linear'}\n",
      "1.000 (+/-0.000) for {'C': 1, 'kernel': 'poly'}\n",
      "1.000 (+/-0.000) for {'C': 10, 'kernel': 'poly'}\n",
      "0.927 (+/-0.004) for {'C': 1, 'gamma': 0.001, 'kernel': 'rbf'}\n",
      "0.894 (+/-0.014) for {'C': 1, 'gamma': 0.0001, 'kernel': 'rbf'}\n",
      "0.948 (+/-0.008) for {'C': 10, 'gamma': 0.001, 'kernel': 'rbf'}\n",
      "0.927 (+/-0.004) for {'C': 10, 'gamma': 0.0001, 'kernel': 'rbf'}\n",
      "\n",
      "Detailed classification report:\n",
      "\n",
      "The model is trained on the full development set.\n",
      "The scores are computed on the full evaluation set.\n",
      "\n",
      "              precision    recall  f1-score   support\n",
      "\n",
      "           0       1.00      1.00      1.00       842\n",
      "           1       1.00      1.00      1.00       783\n",
      "\n",
      "    accuracy                           1.00      1625\n",
      "   macro avg       1.00      1.00      1.00      1625\n",
      "weighted avg       1.00      1.00      1.00      1625\n",
      "\n",
      "\n",
      "# Tuning hyper-parameters for recall\n",
      "\n",
      "Best parameters set found on development set:\n",
      "\n",
      "{'C': 1, 'kernel': 'poly'}\n",
      "\n",
      "Grid scores on development set:\n",
      "\n",
      "0.952 (+/-0.014) for {'C': 1, 'kernel': 'linear'}\n",
      "0.953 (+/-0.009) for {'C': 10, 'kernel': 'linear'}\n",
      "1.000 (+/-0.000) for {'C': 1, 'kernel': 'poly'}\n",
      "1.000 (+/-0.000) for {'C': 10, 'kernel': 'poly'}\n",
      "0.924 (+/-0.004) for {'C': 1, 'gamma': 0.001, 'kernel': 'rbf'}\n",
      "0.884 (+/-0.016) for {'C': 1, 'gamma': 0.0001, 'kernel': 'rbf'}\n",
      "0.947 (+/-0.008) for {'C': 10, 'gamma': 0.001, 'kernel': 'rbf'}\n",
      "0.924 (+/-0.004) for {'C': 10, 'gamma': 0.0001, 'kernel': 'rbf'}\n",
      "\n",
      "Detailed classification report:\n",
      "\n",
      "The model is trained on the full development set.\n",
      "The scores are computed on the full evaluation set.\n",
      "\n",
      "              precision    recall  f1-score   support\n",
      "\n",
      "           0       1.00      1.00      1.00       842\n",
      "           1       1.00      1.00      1.00       783\n",
      "\n",
      "    accuracy                           1.00      1625\n",
      "   macro avg       1.00      1.00      1.00      1625\n",
      "weighted avg       1.00      1.00      1.00      1625\n",
      "\n",
      "\n"
     ]
    }
   ],
   "source": [
    "for score in scores:\n",
    "    print(\"# Tuning hyper-parameters for %s\" % score)\n",
    "    print()\n",
    "\n",
    "    clf = GridSearchCV(svm.SVC(), tuned_parameters, scoring=\"%s_macro\" % score)\n",
    "    clf.fit(x_train_rescaled, y_train_transf)\n",
    "\n",
    "    print(\"Best parameters set found on development set:\")\n",
    "    print()\n",
    "    print(clf.best_params_)\n",
    "    print()\n",
    "    print(\"Grid scores on development set:\")\n",
    "    print()\n",
    "    means = clf.cv_results_[\"mean_test_score\"]\n",
    "    stds = clf.cv_results_[\"std_test_score\"]\n",
    "    for mean, std, params in zip(means, stds, clf.cv_results_[\"params\"]):\n",
    "        print(\"%0.3f (+/-%0.03f) for %r\" % (mean, std * 2, params))\n",
    "    print()\n",
    "\n",
    "    print(\"Detailed classification report:\")\n",
    "    print()\n",
    "    print(\"The model is trained on the full development set.\")\n",
    "    print(\"The scores are computed on the full evaluation set.\")\n",
    "    print()\n",
    "    y_true, y_pred = y_test_transf, clf.predict(scaling.transform(x_test_transf))\n",
    "    print(classification_report(y_true, y_pred))\n",
    "    print()\n"
   ]
  }
 ],
 "metadata": {
  "kernelspec": {
   "display_name": "Python 3 (ipykernel)",
   "language": "python",
   "name": "python3"
  },
  "language_info": {
   "codemirror_mode": {
    "name": "ipython",
    "version": 3
   },
   "file_extension": ".py",
   "mimetype": "text/x-python",
   "name": "python",
   "nbconvert_exporter": "python",
   "pygments_lexer": "ipython3",
   "version": "3.9.12"
  }
 },
 "nbformat": 4,
 "nbformat_minor": 5
}
