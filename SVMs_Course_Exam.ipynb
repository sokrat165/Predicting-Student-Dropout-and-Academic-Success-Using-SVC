{
 "cells": [
  {
   "cell_type": "markdown",
   "id": "1bf91478",
   "metadata": {},
   "source": [
    "# Support Vector Classifier  Exam"
   ]
  },
  {
   "cell_type": "markdown",
   "id": "e34f60a5",
   "metadata": {},
   "source": [
    "## Introducing the database"
   ]
  },
  {
   "cell_type": "markdown",
   "id": "581c24db",
   "metadata": {},
   "source": [
    "#### The database for this example is taken from https://archive-beta.ics.uci.edu/ml/datasets/predict+students+dropout+and+academic+success"
   ]
  },
  {
   "cell_type": "markdown",
   "id": "5a8918ee",
   "metadata": {},
   "source": [
    "#### We usually modify these databases slightly such that they fit the purpose of the course. Therefore, we suggest you use the database provided in the platform to obtain the same results."
   ]
  },
  {
   "cell_type": "markdown",
   "id": "3d0e8403",
   "metadata": {},
   "source": [
    "# Library imports"
   ]
  },
  {
   "cell_type": "code",
   "execution_count": 38,
   "id": "f28dc928",
   "metadata": {},
   "outputs": [],
   "source": [
    "import pandas as pd #for reading the data\n",
    "from sklearn.preprocessing import MinMaxScaler #for data standardization\n",
    "from sklearn.model_selection import train_test_split #to split the data into train and test parts\n",
    "from sklearn.preprocessing import LabelEncoder, OrdinalEncoder #to encode the data to numerical\n",
    "from sklearn import svm, datasets\n",
    "from sklearn.metrics import confusion_matrix, accuracy_score, precision_score, recall_score, \\\n",
    "f1_score, classification_report, cohen_kappa_score, matthews_corrcoef, log_loss, \\\n",
    "ConfusionMatrixDisplay\n",
    "from sklearn.model_selection import GridSearchCV #for cross validation\n",
    "from sklearn.metrics import classification_report #for cross validation\n",
    "import matplotlib.pyplot as plt\n",
    "import seaborn as sns"
   ]
  },
  {
   "cell_type": "markdown",
   "id": "12cf2191",
   "metadata": {},
   "source": [
    "## Loading the database"
   ]
  },
  {
   "cell_type": "markdown",
   "id": "971b9de8",
   "metadata": {},
   "source": [
    "#### Read the csv file and study the database"
   ]
  },
  {
   "cell_type": "code",
   "execution_count": 56,
   "id": "66b9a79b",
   "metadata": {},
   "outputs": [
    {
     "data": {
      "text/html": [
       "<div>\n",
       "<style scoped>\n",
       "    .dataframe tbody tr th:only-of-type {\n",
       "        vertical-align: middle;\n",
       "    }\n",
       "\n",
       "    .dataframe tbody tr th {\n",
       "        vertical-align: top;\n",
       "    }\n",
       "\n",
       "    .dataframe thead th {\n",
       "        text-align: right;\n",
       "    }\n",
       "</style>\n",
       "<table border=\"1\" class=\"dataframe\">\n",
       "  <thead>\n",
       "    <tr style=\"text-align: right;\">\n",
       "      <th></th>\n",
       "      <th>Marital status</th>\n",
       "      <th>Application mode</th>\n",
       "      <th>Application order</th>\n",
       "      <th>Course</th>\n",
       "      <th>Daytime/evening attendance\\t</th>\n",
       "      <th>Previous qualification</th>\n",
       "      <th>Previous qualification (grade)</th>\n",
       "      <th>Nacionality</th>\n",
       "      <th>Mother's qualification</th>\n",
       "      <th>Father's qualification</th>\n",
       "      <th>...</th>\n",
       "      <th>Curricular units 2nd sem (credited)</th>\n",
       "      <th>Curricular units 2nd sem (enrolled)</th>\n",
       "      <th>Curricular units 2nd sem (evaluations)</th>\n",
       "      <th>Curricular units 2nd sem (approved)</th>\n",
       "      <th>Curricular units 2nd sem (grade)</th>\n",
       "      <th>Curricular units 2nd sem (without evaluations)</th>\n",
       "      <th>Unemployment rate</th>\n",
       "      <th>Inflation rate</th>\n",
       "      <th>GDP</th>\n",
       "      <th>Target</th>\n",
       "    </tr>\n",
       "  </thead>\n",
       "  <tbody>\n",
       "    <tr>\n",
       "      <th>0</th>\n",
       "      <td>1</td>\n",
       "      <td>17</td>\n",
       "      <td>5</td>\n",
       "      <td>171</td>\n",
       "      <td>1</td>\n",
       "      <td>1</td>\n",
       "      <td>122.0</td>\n",
       "      <td>1</td>\n",
       "      <td>19</td>\n",
       "      <td>12</td>\n",
       "      <td>...</td>\n",
       "      <td>0</td>\n",
       "      <td>0</td>\n",
       "      <td>0</td>\n",
       "      <td>0</td>\n",
       "      <td>0</td>\n",
       "      <td>0</td>\n",
       "      <td>10.8</td>\n",
       "      <td>1.4</td>\n",
       "      <td>1.74</td>\n",
       "      <td>Dropout</td>\n",
       "    </tr>\n",
       "    <tr>\n",
       "      <th>1</th>\n",
       "      <td>1</td>\n",
       "      <td>15</td>\n",
       "      <td>1</td>\n",
       "      <td>9254</td>\n",
       "      <td>1</td>\n",
       "      <td>1</td>\n",
       "      <td>160.0</td>\n",
       "      <td>1</td>\n",
       "      <td>1</td>\n",
       "      <td>3</td>\n",
       "      <td>...</td>\n",
       "      <td>0</td>\n",
       "      <td>6</td>\n",
       "      <td>6</td>\n",
       "      <td>6</td>\n",
       "      <td>13.66666667</td>\n",
       "      <td>0</td>\n",
       "      <td>13.9</td>\n",
       "      <td>-0.3</td>\n",
       "      <td>0.79</td>\n",
       "      <td>Graduate</td>\n",
       "    </tr>\n",
       "    <tr>\n",
       "      <th>2</th>\n",
       "      <td>1</td>\n",
       "      <td>1</td>\n",
       "      <td>5</td>\n",
       "      <td>9070</td>\n",
       "      <td>1</td>\n",
       "      <td>1</td>\n",
       "      <td>122.0</td>\n",
       "      <td>1</td>\n",
       "      <td>37</td>\n",
       "      <td>37</td>\n",
       "      <td>...</td>\n",
       "      <td>0</td>\n",
       "      <td>6</td>\n",
       "      <td>0</td>\n",
       "      <td>0</td>\n",
       "      <td>0</td>\n",
       "      <td>0</td>\n",
       "      <td>10.8</td>\n",
       "      <td>1.4</td>\n",
       "      <td>1.74</td>\n",
       "      <td>Dropout</td>\n",
       "    </tr>\n",
       "    <tr>\n",
       "      <th>3</th>\n",
       "      <td>1</td>\n",
       "      <td>17</td>\n",
       "      <td>2</td>\n",
       "      <td>9773</td>\n",
       "      <td>1</td>\n",
       "      <td>1</td>\n",
       "      <td>122.0</td>\n",
       "      <td>1</td>\n",
       "      <td>38</td>\n",
       "      <td>37</td>\n",
       "      <td>...</td>\n",
       "      <td>0</td>\n",
       "      <td>6</td>\n",
       "      <td>10</td>\n",
       "      <td>5</td>\n",
       "      <td>12.4</td>\n",
       "      <td>0</td>\n",
       "      <td>9.4</td>\n",
       "      <td>-0.8</td>\n",
       "      <td>-3.12</td>\n",
       "      <td>Graduate</td>\n",
       "    </tr>\n",
       "    <tr>\n",
       "      <th>4</th>\n",
       "      <td>2</td>\n",
       "      <td>39</td>\n",
       "      <td>1</td>\n",
       "      <td>8014</td>\n",
       "      <td>0</td>\n",
       "      <td>1</td>\n",
       "      <td>100.0</td>\n",
       "      <td>1</td>\n",
       "      <td>37</td>\n",
       "      <td>38</td>\n",
       "      <td>...</td>\n",
       "      <td>0</td>\n",
       "      <td>6</td>\n",
       "      <td>6</td>\n",
       "      <td>6</td>\n",
       "      <td>13</td>\n",
       "      <td>0</td>\n",
       "      <td>13.9</td>\n",
       "      <td>-0.3</td>\n",
       "      <td>0.79</td>\n",
       "      <td>Graduate</td>\n",
       "    </tr>\n",
       "  </tbody>\n",
       "</table>\n",
       "<p>5 rows × 37 columns</p>\n",
       "</div>"
      ],
      "text/plain": [
       "  Marital status Application mode Application order Course  \\\n",
       "0              1               17                 5    171   \n",
       "1              1               15                 1   9254   \n",
       "2              1                1                 5   9070   \n",
       "3              1               17                 2   9773   \n",
       "4              2               39                 1   8014   \n",
       "\n",
       "  Daytime/evening attendance\\t Previous qualification  \\\n",
       "0                            1                      1   \n",
       "1                            1                      1   \n",
       "2                            1                      1   \n",
       "3                            1                      1   \n",
       "4                            0                      1   \n",
       "\n",
       "  Previous qualification (grade) Nacionality Mother's qualification  \\\n",
       "0                          122.0           1                     19   \n",
       "1                          160.0           1                      1   \n",
       "2                          122.0           1                     37   \n",
       "3                          122.0           1                     38   \n",
       "4                          100.0           1                     37   \n",
       "\n",
       "  Father's qualification  ... Curricular units 2nd sem (credited)  \\\n",
       "0                     12  ...                                   0   \n",
       "1                      3  ...                                   0   \n",
       "2                     37  ...                                   0   \n",
       "3                     37  ...                                   0   \n",
       "4                     38  ...                                   0   \n",
       "\n",
       "  Curricular units 2nd sem (enrolled) Curricular units 2nd sem (evaluations)  \\\n",
       "0                                   0                                      0   \n",
       "1                                   6                                      6   \n",
       "2                                   6                                      0   \n",
       "3                                   6                                     10   \n",
       "4                                   6                                      6   \n",
       "\n",
       "  Curricular units 2nd sem (approved) Curricular units 2nd sem (grade)  \\\n",
       "0                                   0                                0   \n",
       "1                                   6                      13.66666667   \n",
       "2                                   0                                0   \n",
       "3                                   5                             12.4   \n",
       "4                                   6                               13   \n",
       "\n",
       "  Curricular units 2nd sem (without evaluations) Unemployment rate  \\\n",
       "0                                              0              10.8   \n",
       "1                                              0              13.9   \n",
       "2                                              0              10.8   \n",
       "3                                              0               9.4   \n",
       "4                                              0              13.9   \n",
       "\n",
       "  Inflation rate    GDP    Target  \n",
       "0            1.4   1.74   Dropout  \n",
       "1           -0.3   0.79  Graduate  \n",
       "2            1.4   1.74   Dropout  \n",
       "3           -0.8  -3.12  Graduate  \n",
       "4           -0.3   0.79  Graduate  \n",
       "\n",
       "[5 rows x 37 columns]"
      ]
     },
     "execution_count": 56,
     "metadata": {},
     "output_type": "execute_result"
    }
   ],
   "source": [
    "data = pd.read_csv(\"student_dropout.csv\", dtype = str)\n",
    "data.head()"
   ]
  },
  {
   "cell_type": "markdown",
   "id": "ed3619de",
   "metadata": {},
   "source": [
    "#### Check target class distribution and check for missing values"
   ]
  },
  {
   "cell_type": "code",
   "execution_count": 57,
   "id": "261abc19",
   "metadata": {},
   "outputs": [
    {
     "data": {
      "text/plain": [
       "Marital status                                    0\n",
       "Application mode                                  0\n",
       "Application order                                 0\n",
       "Course                                            0\n",
       "Daytime/evening attendance\\t                      0\n",
       "Previous qualification                            0\n",
       "Previous qualification (grade)                    0\n",
       "Nacionality                                       0\n",
       "Mother's qualification                            0\n",
       "Father's qualification                            0\n",
       "Mother's occupation                               0\n",
       "Father's occupation                               0\n",
       "Admission grade                                   0\n",
       "Displaced                                         0\n",
       "Educational special needs                         0\n",
       "Debtor                                            0\n",
       "Tuition fees up to date                           0\n",
       "Gender                                            0\n",
       "Scholarship holder                                0\n",
       "Age at enrollment                                 0\n",
       "International                                     0\n",
       "Curricular units 1st sem (credited)               0\n",
       "Curricular units 1st sem (enrolled)               0\n",
       "Curricular units 1st sem (evaluations)            0\n",
       "Curricular units 1st sem (approved)               0\n",
       "Curricular units 1st sem (grade)                  0\n",
       "Curricular units 1st sem (without evaluations)    0\n",
       "Curricular units 2nd sem (credited)               0\n",
       "Curricular units 2nd sem (enrolled)               0\n",
       "Curricular units 2nd sem (evaluations)            0\n",
       "Curricular units 2nd sem (approved)               0\n",
       "Curricular units 2nd sem (grade)                  0\n",
       "Curricular units 2nd sem (without evaluations)    0\n",
       "Unemployment rate                                 0\n",
       "Inflation rate                                    0\n",
       "GDP                                               0\n",
       "Target                                            0\n",
       "dtype: int64"
      ]
     },
     "execution_count": 57,
     "metadata": {},
     "output_type": "execute_result"
    }
   ],
   "source": [
    "data.isnull().sum()"
   ]
  },
  {
   "cell_type": "code",
   "execution_count": 58,
   "id": "f4ed0e7d",
   "metadata": {},
   "outputs": [
    {
     "data": {
      "text/plain": [
       "Index(['Marital status', 'Application mode', 'Application order', 'Course',\n",
       "       'Daytime/evening attendance\\t', 'Previous qualification',\n",
       "       'Previous qualification (grade)', 'Nacionality',\n",
       "       'Mother's qualification', 'Father's qualification',\n",
       "       'Mother's occupation', 'Father's occupation', 'Admission grade',\n",
       "       'Displaced', 'Educational special needs', 'Debtor',\n",
       "       'Tuition fees up to date', 'Gender', 'Scholarship holder',\n",
       "       'Age at enrollment', 'International',\n",
       "       'Curricular units 1st sem (credited)',\n",
       "       'Curricular units 1st sem (enrolled)',\n",
       "       'Curricular units 1st sem (evaluations)',\n",
       "       'Curricular units 1st sem (approved)',\n",
       "       'Curricular units 1st sem (grade)',\n",
       "       'Curricular units 1st sem (without evaluations)',\n",
       "       'Curricular units 2nd sem (credited)',\n",
       "       'Curricular units 2nd sem (enrolled)',\n",
       "       'Curricular units 2nd sem (evaluations)',\n",
       "       'Curricular units 2nd sem (approved)',\n",
       "       'Curricular units 2nd sem (grade)',\n",
       "       'Curricular units 2nd sem (without evaluations)', 'Unemployment rate',\n",
       "       'Inflation rate', 'GDP', 'Target'],\n",
       "      dtype='object')"
      ]
     },
     "execution_count": 58,
     "metadata": {},
     "output_type": "execute_result"
    }
   ],
   "source": [
    "data.columns"
   ]
  },
  {
   "cell_type": "code",
   "execution_count": 5,
   "id": "333df843",
   "metadata": {},
   "outputs": [
    {
     "data": {
      "text/plain": [
       "(4424, 37)"
      ]
     },
     "execution_count": 5,
     "metadata": {},
     "output_type": "execute_result"
    }
   ],
   "source": [
    "data.shape"
   ]
  },
  {
   "cell_type": "code",
   "execution_count": 37,
   "id": "f1ab1fa5",
   "metadata": {},
   "outputs": [
    {
     "data": {
      "image/png": "[encoded data removed]",
      "text/plain": [
       "<Figure size 1440x720 with 37 Axes>"
      ]
     },
     "metadata": {
      "needs_background": "light"
     },
     "output_type": "display_data"
    }
   ],
   "source": [
    "plt.figure(figsize=(20,10))\n",
    "for i in range(37):\n",
    "    plt.subplot(5,8,i+1)\n",
    "    plt.hist(data.iloc[:,i])"
   ]
  },
  {
   "cell_type": "code",
   "execution_count": 59,
   "id": "8fed3021",
   "metadata": {},
   "outputs": [
    {
     "data": {
      "text/plain": [
       "<AxesSubplot:xlabel='Marital status', ylabel='count'>"
      ]
     },
     "execution_count": 59,
     "metadata": {},
     "output_type": "execute_result"
    },
    {
     "data": {
      "image/png": "[encoded data removed]",
      "text/plain": [
       "<Figure size 432x288 with 1 Axes>"
      ]
     },
     "metadata": {
      "needs_background": "light"
     },
     "output_type": "display_data"
    }
   ],
   "source": [
    "sns.countplot(data=data,x='Marital status',hue='Target')"
   ]
  },
  {
   "cell_type": "code",
   "execution_count": 77,
   "id": "c00f98fe",
   "metadata": {},
   "outputs": [
    {
     "data": {
      "text/plain": [
       "<AxesSubplot:xlabel='Target', ylabel='count'>"
      ]
     },
     "execution_count": 77,
     "metadata": {},
     "output_type": "execute_result"
    },
    {
     "data": {
      "image/png": "[encoded data removed]",
      "text/plain": [
       "<Figure size 432x288 with 1 Axes>"
      ]
     },
     "metadata": {
      "needs_background": "light"
     },
     "output_type": "display_data"
    }
   ],
   "source": [
    "sns.countplot(data=data,x=\"Target\")\n"
   ]
  },
  {
   "cell_type": "code",
   "execution_count": 55,
   "id": "e72d4b5d",
   "metadata": {},
   "outputs": [
    {
     "data": {
      "text/plain": [
       "0         1\n",
       "1         1\n",
       "2         1\n",
       "3         1\n",
       "4         1\n",
       "       ... \n",
       "4419      1\n",
       "4420    105\n",
       "4421      1\n",
       "4422      1\n",
       "4423     22\n",
       "Name: Nacionality, Length: 4424, dtype: object"
      ]
     },
     "execution_count": 55,
     "metadata": {},
     "output_type": "execute_result"
    }
   ],
   "source": [
    "data['Nacionality']"
   ]
  },
  {
   "cell_type": "markdown",
   "id": "d14e4475",
   "metadata": {},
   "source": [
    "## Preprocessing"
   ]
  },
  {
   "cell_type": "markdown",
   "id": "a34cbdac",
   "metadata": {},
   "source": [
    "#### Define the target and the inputs"
   ]
  },
  {
   "cell_type": "code",
   "execution_count": 6,
   "id": "affe7bf9",
   "metadata": {},
   "outputs": [],
   "source": [
    "target=data.iloc[:,-1]\n",
    "inputs=data.iloc[:,:36]\n"
   ]
  },
  {
   "cell_type": "markdown",
   "id": "c05205e4",
   "metadata": {},
   "source": [
    "#### Create a training and a testing dataset"
   ]
  },
  {
   "cell_type": "code",
   "execution_count": 7,
   "id": "f702b659",
   "metadata": {},
   "outputs": [],
   "source": [
    "x_train,x_test,y_train,y_test=train_test_split(inputs,target,test_size=0.5,random_state=365,stratify=target)"
   ]
  },
  {
   "cell_type": "markdown",
   "id": "f8a7d2fc",
   "metadata": {},
   "source": [
    "#### Define an encoder for the target "
   ]
  },
  {
   "cell_type": "code",
   "execution_count": 8,
   "id": "ec9120c4",
   "metadata": {},
   "outputs": [],
   "source": [
    "enc_t = LabelEncoder()"
   ]
  },
  {
   "cell_type": "markdown",
   "id": "15b88865",
   "metadata": {},
   "source": [
    "#### Apply the fit_transform() method on the training data and the transform() method on the test data."
   ]
  },
  {
   "cell_type": "code",
   "execution_count": 9,
   "id": "ea011efb",
   "metadata": {},
   "outputs": [],
   "source": [
    "y_train_scale=enc_t.fit_transform(y_train)\n",
    "y_test_scale=enc_t.transform(y_test)"
   ]
  },
  {
   "cell_type": "code",
   "execution_count": 25,
   "id": "9cd249e6",
   "metadata": {},
   "outputs": [
    {
     "data": {
      "text/plain": [
       "3172     Dropout\n",
       "2820    Graduate\n",
       "4291    Graduate\n",
       "3482     Dropout\n",
       "903     Graduate\n",
       "3134    Enrolled\n",
       "3217    Graduate\n",
       "1059    Graduate\n",
       "1764    Graduate\n",
       "974     Graduate\n",
       "Name: Target, dtype: object"
      ]
     },
     "execution_count": 25,
     "metadata": {},
     "output_type": "execute_result"
    }
   ],
   "source": [
    "y_train[:10]"
   ]
  },
  {
   "cell_type": "code",
   "execution_count": 24,
   "id": "c3963a65",
   "metadata": {},
   "outputs": [
    {
     "data": {
      "text/plain": [
       "array([0, 2, 2, 0, 2, 1, 2, 2, 2, 2])"
      ]
     },
     "execution_count": 24,
     "metadata": {},
     "output_type": "execute_result"
    }
   ],
   "source": [
    "y_train_scale[:10]"
   ]
  },
  {
   "cell_type": "markdown",
   "id": "c692c76c",
   "metadata": {},
   "source": [
    "### rescale to the range [-1, 1]"
   ]
  },
  {
   "cell_type": "code",
   "execution_count": 10,
   "id": "3165f496",
   "metadata": {},
   "outputs": [],
   "source": [
    "ran=MinMaxScaler(feature_range=(-1,1)).fit(x_train)\n",
    "x_train=ran.transform(x_train)"
   ]
  },
  {
   "cell_type": "markdown",
   "id": "3b75b782",
   "metadata": {},
   "source": [
    "### Choose a C value of 1"
   ]
  },
  {
   "cell_type": "code",
   "execution_count": 11,
   "id": "5d151bb3",
   "metadata": {},
   "outputs": [],
   "source": [
    "C = 1.0"
   ]
  },
  {
   "cell_type": "markdown",
   "id": "b78f39a7",
   "metadata": {},
   "source": [
    "## Classification"
   ]
  },
  {
   "cell_type": "code",
   "execution_count": 12,
   "id": "e20d9fa4",
   "metadata": {},
   "outputs": [],
   "source": [
    "svc=svm.SVC(kernel='linear',C=C)"
   ]
  },
  {
   "cell_type": "code",
   "execution_count": 13,
   "id": "c3469937",
   "metadata": {},
   "outputs": [
    {
     "data": {
      "text/plain": [
       "SVC(kernel='linear')"
      ]
     },
     "execution_count": 13,
     "metadata": {},
     "output_type": "execute_result"
    }
   ],
   "source": [
    "svc.fit(x_train,y_train_scale)"
   ]
  },
  {
   "cell_type": "markdown",
   "id": "a394afbd",
   "metadata": {},
   "source": [
    "#### Evaluate the model on the test data"
   ]
  },
  {
   "cell_type": "code",
   "execution_count": 14,
   "id": "3a406621",
   "metadata": {},
   "outputs": [
    {
     "data": {
      "text/plain": [
       "array([[ 525,   83,  103],\n",
       "       [  99,  124,  174],\n",
       "       [  30,   52, 1022]], dtype=int64)"
      ]
     },
     "execution_count": 14,
     "metadata": {},
     "output_type": "execute_result"
    }
   ],
   "source": [
    "y_p_test=svc.predict(ran.transform(x_test))\n",
    "confusion_matrix(y_test_scale,y_p_test)"
   ]
  },
  {
   "cell_type": "code",
   "execution_count": 26,
   "id": "3fd38270",
   "metadata": {},
   "outputs": [
    {
     "data": {
      "image/png": "[encoded data removed]",
      "text/plain": [
       "<Figure size 576x360 with 2 Axes>"
      ]
     },
     "metadata": {
      "needs_background": "light"
     },
     "output_type": "display_data"
    }
   ],
   "source": [
    "\n",
    "fig, ax = plt.subplots(figsize=(8, 5))\n",
    "\n",
    "cmp = ConfusionMatrixDisplay(\n",
    "    confusion_matrix(y_test_scale,y_p_test),\n",
    "    display_labels=[\"Dropout\" , 'Enrolled',\"graduate\"],\n",
    "   \n",
    ")\n",
    "\n",
    "cmp.plot(ax=ax);"
   ]
  },
  {
   "cell_type": "code",
   "execution_count": 27,
   "id": "bb4fec90",
   "metadata": {},
   "outputs": [
    {
     "name": "stdout",
     "output_type": "stream",
     "text": [
      "              precision    recall  f1-score   support\n",
      "\n",
      "           0       0.80      0.74      0.77       711\n",
      "           1       0.48      0.31      0.38       397\n",
      "           2       0.79      0.93      0.85      1104\n",
      "\n",
      "    accuracy                           0.76      2212\n",
      "   macro avg       0.69      0.66      0.67      2212\n",
      "weighted avg       0.74      0.76      0.74      2212\n",
      "\n"
     ]
    }
   ],
   "source": [
    "#classification report\n",
    "print(classification_report(y_test_scale,y_p_test))"
   ]
  },
  {
   "cell_type": "markdown",
   "id": "1bab5772",
   "metadata": {},
   "source": [
    "## Classification with different kernels"
   ]
  },
  {
   "cell_type": "markdown",
   "id": "fae19427",
   "metadata": {},
   "source": [
    "### Create and test the following svms with the respective kernels and C values\n"
   ]
  },
  {
   "cell_type": "code",
   "execution_count": 33,
   "id": "4fcfbd63",
   "metadata": {},
   "outputs": [
    {
     "data": {
      "text/plain": [
       "GridSearchCV(cv=5, estimator=SVC(),\n",
       "             param_grid=[{'C': [1], 'kernel': ['linear']},\n",
       "                         {'C': [1, 10, 100], 'gamma': [0.001, 0.0001],\n",
       "                          'kernel': ['rbf']},\n",
       "                         {'C': [1], 'kernel': ['sigmoid']},\n",
       "                         {'C': [10, 100], 'degree': [2, 3],\n",
       "                          'kernel': ['poly']}])"
      ]
     },
     "execution_count": 33,
     "metadata": {},
     "output_type": "execute_result"
    }
   ],
   "source": [
    "tune_parameter = [\n",
    "    {'kernel': ['linear'], 'C': [1]},\n",
    "    {'kernel': ['rbf'], 'gamma': [1e-3, 1e-4], 'C': [1, 10, 100]},\n",
    "    {'kernel': ['sigmoid'], 'C': [1]},\n",
    "    {'kernel': ['poly'], 'degree': [2, 3], 'C': [10, 100]}\n",
    "]\n",
    "\n",
    "gsc = GridSearchCV(svm.SVC(), tune_parameter, cv=5)\n",
    "gsc.fit(x_train, y_train_scale)"
   ]
  },
  {
   "cell_type": "code",
   "execution_count": 78,
   "id": "232539cb",
   "metadata": {},
   "outputs": [],
   "source": [
    "#classification report for each classifier"
   ]
  },
  {
   "cell_type": "code",
   "execution_count": 34,
   "id": "b40b6571",
   "metadata": {},
   "outputs": [
    {
     "data": {
      "text/plain": [
       "{'C': 1, 'kernel': 'linear'}"
      ]
     },
     "execution_count": 34,
     "metadata": {},
     "output_type": "execute_result"
    }
   ],
   "source": [
    "gsc.best_params_"
   ]
  },
  {
   "cell_type": "code",
   "execution_count": 35,
   "id": "e89fa9f4",
   "metadata": {},
   "outputs": [
    {
     "data": {
      "text/plain": [
       "{'mean_fit_time': array([0.07772465, 0.12733188, 0.14690504, 0.11192122, 0.13567104,\n",
       "        0.09550939, 0.12396345, 0.13809862, 0.10227447, 0.12894011,\n",
       "        0.31224146, 0.23511286]),\n",
       " 'std_fit_time': array([0.00073191, 0.00225367, 0.00725571, 0.00719457, 0.00858207,\n",
       "        0.00275143, 0.0027331 , 0.00617872, 0.01019308, 0.00911267,\n",
       "        0.01364902, 0.00983719]),\n",
       " 'mean_score_time': array([0.01508174, 0.0624176 , 0.06009402, 0.04492092, 0.05253429,\n",
       "        0.04249916, 0.03275628, 0.01875343, 0.00904331, 0.01080351,\n",
       "        0.01027141, 0.00955048]),\n",
       " 'std_score_time': array([0.00182623, 0.0006549 , 0.00536406, 0.00714982, 0.00844329,\n",
       "        0.00619268, 0.0027505 , 0.00626187, 0.00700462, 0.00299418,\n",
       "        0.0054251 , 0.00779971]),\n",
       " 'param_C': masked_array(data=[1, 1, 1, 10, 10, 100, 100, 1, 10, 10, 100, 100],\n",
       "              mask=[False, False, False, False, False, False, False, False,\n",
       "                    False, False, False, False],\n",
       "        fill_value='?',\n",
       "             dtype=object),\n",
       " 'param_kernel': masked_array(data=['linear', 'rbf', 'rbf', 'rbf', 'rbf', 'rbf', 'rbf',\n",
       "                    'sigmoid', 'poly', 'poly', 'poly', 'poly'],\n",
       "              mask=[False, False, False, False, False, False, False, False,\n",
       "                    False, False, False, False],\n",
       "        fill_value='?',\n",
       "             dtype=object),\n",
       " 'param_gamma': masked_array(data=[--, 0.001, 0.0001, 0.001, 0.0001, 0.001, 0.0001, --,\n",
       "                    --, --, --, --],\n",
       "              mask=[ True, False, False, False, False, False, False,  True,\n",
       "                     True,  True,  True,  True],\n",
       "        fill_value='?',\n",
       "             dtype=object),\n",
       " 'param_degree': masked_array(data=[--, --, --, --, --, --, --, --, 2, 3, 2, 3],\n",
       "              mask=[ True,  True,  True,  True,  True,  True,  True,  True,\n",
       "                    False, False, False, False],\n",
       "        fill_value='?',\n",
       "             dtype=object),\n",
       " 'params': [{'C': 1, 'kernel': 'linear'},\n",
       "  {'C': 1, 'gamma': 0.001, 'kernel': 'rbf'},\n",
       "  {'C': 1, 'gamma': 0.0001, 'kernel': 'rbf'},\n",
       "  {'C': 10, 'gamma': 0.001, 'kernel': 'rbf'},\n",
       "  {'C': 10, 'gamma': 0.0001, 'kernel': 'rbf'},\n",
       "  {'C': 100, 'gamma': 0.001, 'kernel': 'rbf'},\n",
       "  {'C': 100, 'gamma': 0.0001, 'kernel': 'rbf'},\n",
       "  {'C': 1, 'kernel': 'sigmoid'},\n",
       "  {'C': 10, 'degree': 2, 'kernel': 'poly'},\n",
       "  {'C': 10, 'degree': 3, 'kernel': 'poly'},\n",
       "  {'C': 100, 'degree': 2, 'kernel': 'poly'},\n",
       "  {'C': 100, 'degree': 3, 'kernel': 'poly'}],\n",
       " 'split0_test_score': array([0.73814898, 0.67945824, 0.49887133, 0.70654628, 0.67945824,\n",
       "        0.74717833, 0.70654628, 0.66139955, 0.751693  , 0.74492099,\n",
       "        0.72234763, 0.70428894]),\n",
       " 'split1_test_score': array([0.78103837, 0.68623025, 0.49887133, 0.7020316 , 0.68623025,\n",
       "        0.77878104, 0.69977427, 0.69751693, 0.77878104, 0.76523702,\n",
       "        0.73137698, 0.71783296]),\n",
       " 'split2_test_score': array([0.78280543, 0.65837104, 0.5       , 0.70361991, 0.65837104,\n",
       "        0.76244344, 0.70361991, 0.67647059, 0.76470588, 0.74434389,\n",
       "        0.72850679, 0.71040724]),\n",
       " 'split3_test_score': array([0.74660633, 0.68778281, 0.5       , 0.71040724, 0.68778281,\n",
       "        0.74434389, 0.71040724, 0.67420814, 0.76244344, 0.74660633,\n",
       "        0.74434389, 0.71493213]),\n",
       " 'split4_test_score': array([0.76244344, 0.66515837, 0.5       , 0.69004525, 0.66515837,\n",
       "        0.739819  , 0.69004525, 0.67873303, 0.72850679, 0.73076923,\n",
       "        0.75113122, 0.67420814]),\n",
       " 'mean_test_score': array([0.76220851, 0.67540014, 0.49954853, 0.70253006, 0.67540014,\n",
       "        0.75451314, 0.70207859, 0.67766565, 0.75722603, 0.74637549,\n",
       "        0.7355413 , 0.70433388]),\n",
       " 'std_test_score': array([0.01789492, 0.01167882, 0.00055293, 0.00686275, 0.01167882,\n",
       "        0.01431748, 0.00695433, 0.01160329, 0.0167523 , 0.01100553,\n",
       "        0.01059651, 0.01574164]),\n",
       " 'rank_test_score': array([ 1, 10, 12,  7, 10,  3,  8,  9,  2,  4,  5,  6])}"
      ]
     },
     "execution_count": 35,
     "metadata": {},
     "output_type": "execute_result"
    }
   ],
   "source": [
    "gsc.cv_results_"
   ]
  }
 ],
 "metadata": {
  "kernelspec": {
   "display_name": "Python 3 (ipykernel)",
   "language": "python",
   "name": "python3"
  },
  "language_info": {
   "codemirror_mode": {
    "name": "ipython",
    "version": 3
   },
   "file_extension": ".py",
   "mimetype": "text/x-python",
   "name": "python",
   "nbconvert_exporter": "python",
   "pygments_lexer": "ipython3",
   "version": "3.9.12"
  }
 },
 "nbformat": 4,
 "nbformat_minor": 5
}
